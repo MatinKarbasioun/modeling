{
 "cells": [
  {
   "attachments": {},
   "cell_type": "markdown",
   "metadata": {
    "pycharm": {
     "name": "#%% md\n"
    }
   },
   "source": [
    "An ant leaves its anthill in order to forage for food.  \n",
    "It moves with the speed of 10cm per second, but it doesn't know where to go,  \n",
    "therefore every second it moves randomly 10cm directly north, south, east or west   \n",
    "with equal probability.  \n",
    "If the food is located on east-west lines 20cm to the north and 20cm to the south,  \n",
    "as well as on north-south lines 20cm to the east and 20cm to the west from the anthill,   \n",
    "how long will it take the ant to reach it on average?  \n",
    "What is the average time the ant will reach food if it is located only on a  \n",
    "diagonal line passing through (10cm, 0cm) and (0cm, 10cm) points?  \n",
    "Can you write a program that comes up with an estimate of average time to   \n",
    "find food for any closed boundary around the anthill? What would be  \n",
    "the answer if food is located outside a defined by\n",
    "( (x – 2.5cm) / 30cm )2 + ( (y – 2.5cm) / 40cm )2 < 1   \n",
    "in coordinate system where the anthill is located at (x = 0cm, y = 0cm)?   \n",
    "Provide us with a solution rounded to the nearest integer."
   ]
  },
  {
   "cell_type": "code",
   "execution_count": null,
   "outputs": [],
   "source": [
    "import numpy as np"
   ],
   "metadata": {
    "collapsed": false,
    "pycharm": {
     "name": "#%%\n"
    }
   }
  },
  {
   "cell_type": "code",
   "execution_count": 7,
   "outputs": [],
   "source": [
    "from decimal import Decimal\n",
    "\n",
    "\n",
    "class LinearBoundaryEquation:\n",
    "    def __init__(self, a: Decimal, b: Decimal, c: Decimal):\n",
    "        self.__a = a\n",
    "        self.__b = b\n",
    "        self.__c = c\n",
    "\n",
    "    def calculate(self, x, y):\n",
    "        return self.__a * x + self.__b * y + self.__c\n",
    "\n",
    "    @property\n",
    "    def a(self) -> Decimal:\n",
    "        return self.__a\n",
    "\n",
    "    @property\n",
    "    def b(self) -> Decimal:\n",
    "        return self.__b\n",
    "\n",
    "    @property\n",
    "    def c(self) -> Decimal:\n",
    "        return self.__c\n"
   ],
   "metadata": {
    "collapsed": false,
    "pycharm": {
     "name": "#%%\n"
    }
   }
  },
  {
   "cell_type": "code",
   "execution_count": 21,
   "outputs": [],
   "source": [
    "import math\n",
    "\n",
    "def find_minimum_movement(anthill_base_coordinate: tuple[Decimal, Decimal], boundary_equation: LinearBoundaryEquation):\n",
    "    a: Decimal = boundary_equation.a\n",
    "    b: Decimal = boundary_equation.b\n",
    "    c: Decimal = boundary_equation.c\n",
    "\n",
    "    distance = abs(a * anthill_base_coordinate[0] + b * anthill_base_coordinate[1] + c)/ (a**Decimal('2') + b**Decimal('2'))**(Decimal('0.5'))\n",
    "    return distance"
   ],
   "metadata": {
    "collapsed": false,
    "pycharm": {
     "name": "#%%\n"
    }
   }
  },
  {
   "cell_type": "code",
   "execution_count": null,
   "metadata": {
    "pycharm": {
     "name": "#%%\n"
    }
   },
   "outputs": [],
   "source": [
    "from decimal import Decimal\n",
    "from typing import Callable\n",
    "\n",
    "\n",
    "def mean_time_calculator(anthill_base_coordinate: tuple[Decimal, Decimal],\n",
    "                         boundary_equation: list[Callable],\n",
    "                         movement_speed: Decimal,\n",
    "                         movement_distance: Decimal,\n",
    "                         direction_choosing_probability: Decimal) -> int:\n",
    "    ant_average_step_time = ant_step_movement / ant_speed\n",
    "    distances = list(map(lambda boundary: find_minimum_movement(anthill_base_coordinate, boundary), boundary_equation))\n",
    "\n",
    "    return  direction * step_pitch + latest_coordination"
   ]
  },
  {
   "cell_type": "code",
   "execution_count": 15,
   "outputs": [],
   "source": [
    "#Ant Properties\n",
    "ant_speed = 10 #cm/s\n",
    "ant_step_movement = 10 #cm\n",
    "p_direction_choosing = 0.25\n",
    "anthill_coordinate = (0, 0)"
   ],
   "metadata": {
    "collapsed": false,
    "pycharm": {
     "name": "#%%\n"
    }
   }
  },
  {
   "cell_type": "code",
   "execution_count": 18,
   "outputs": [
    {
     "data": {
      "text/plain": "[<__main__.LinearBoundaryEquation at 0x2129c63aed0>,\n <__main__.LinearBoundaryEquation at 0x2129c639490>,\n <__main__.LinearBoundaryEquation at 0x2129c6396d0>,\n <__main__.LinearBoundaryEquation at 0x2129c63a6d0>]"
     },
     "execution_count": 18,
     "metadata": {},
     "output_type": "execute_result"
    }
   ],
   "source": [
    "# Food Properties\n",
    "from decimal import Decimal\n",
    "\n",
    "\n",
    "food_equations = [LinearBoundaryEquation(Decimal('1'), Decimal('0'), Decimal('20')),\n",
    "                  LinearBoundaryEquation(Decimal('1'), Decimal('0'), Decimal('-20')),\n",
    "                  LinearBoundaryEquation(Decimal('0'), Decimal('1'), Decimal('20')),\n",
    "                  LinearBoundaryEquation(Decimal('0'), Decimal('1'), Decimal('-20'))]\n",
    "food_equations"
   ],
   "metadata": {
    "collapsed": false,
    "pycharm": {
     "name": "#%%\n"
    }
   }
  },
  {
   "cell_type": "code",
   "execution_count": 22,
   "metadata": {
    "pycharm": {
     "name": "#%%\n"
    }
   },
   "outputs": [],
   "source": [
    "from scipy import integrate\n",
    "import numpy as np\n",
    "\n",
    "\n",
    "def mu_calculator(integrand_func: Callable, *args):\n",
    "    integral = integrate.quad(integrand_func, 0, np.inf, args)\n",
    "    return integral"
   ]
  },
  {
   "cell_type": "code",
   "execution_count": 23,
   "outputs": [
    {
     "data": {
      "text/plain": "[Decimal('2E+1'), Decimal('2E+1'), Decimal('2E+1'), Decimal('2E+1')]"
     },
     "execution_count": 23,
     "metadata": {},
     "output_type": "execute_result"
    }
   ],
   "source": [],
   "metadata": {
    "collapsed": false,
    "pycharm": {
     "name": "#%%\n"
    }
   }
  }
 ],
 "metadata": {
  "kernelspec": {
   "display_name": "venv.3.11.2",
   "language": "python",
   "name": "python3"
  },
  "language_info": {
   "codemirror_mode": {
    "name": "ipython",
    "version": 3
   },
   "file_extension": ".py",
   "mimetype": "text/x-python",
   "name": "python",
   "nbconvert_exporter": "python",
   "pygments_lexer": "ipython3",
   "version": "3.11.2"
  },
  "orig_nbformat": 4,
  "vscode": {
   "interpreter": {
    "hash": "7e23654340e2a09dbd3cf207048cdb533fb12625a6a137a555e2c90345dbc70a"
   }
  }
 },
 "nbformat": 4,
 "nbformat_minor": 2
}